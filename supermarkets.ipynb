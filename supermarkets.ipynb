{
  "nbformat": 4,
  "nbformat_minor": 0,
  "metadata": {
    "colab": {
      "provenance": [],
      "authorship_tag": "ABX9TyOu1VR0HxcTC8UHSCgXc+bG",
      "include_colab_link": true
    },
    "kernelspec": {
      "name": "python3",
      "display_name": "Python 3"
    },
    "language_info": {
      "name": "python"
    }
  },
  "cells": [
    {
      "cell_type": "markdown",
      "metadata": {
        "id": "view-in-github",
        "colab_type": "text"
      },
      "source": [
        "<a href=\"https://colab.research.google.com/github/DeboraMendes/supermarkets/blob/main/supermarkets.ipynb\" target=\"_parent\"><img src=\"https://colab.research.google.com/assets/colab-badge.svg\" alt=\"Open In Colab\"/></a>"
      ]
    },
    {
      "cell_type": "code",
      "execution_count": 299,
      "metadata": {
        "id": "KJvp4cU5Mo2f"
      },
      "outputs": [],
      "source": [
        "# Instalando biblioteca do Google Maps\n",
        "!pip install -q googlemaps\n",
        "\n",
        "# Instalando biblioteca do Pandas\n",
        "!pip install -q pandas"
      ]
    },
    {
      "cell_type": "code",
      "source": [
        "# Importando biblioteca para integrar com Google Maps\n",
        "import googlemaps\n",
        "\n",
        "# Importando biblioteca para criação e manipulação de DataFrames (tabelas)\n",
        "import pandas as pd\n",
        "\n",
        "#Importando biblioteca para ter acesso aos Secrets do Colab\n",
        "from google.colab import userdata\n",
        "\n",
        "#Importando biblioteca para tratar a apresentação dos dados\n",
        "from IPython.display import display, HTML\n",
        "\n",
        "# Importando biblioteca para tempo de espera antes de solicitar a próxima página\n",
        "import time"
      ],
      "metadata": {
        "id": "GDTzypCbOgbb"
      },
      "execution_count": 300,
      "outputs": []
    },
    {
      "cell_type": "code",
      "source": [
        "# Configurando chave da API do Google Maps\n",
        "maps_api_key = userdata.get('MAPS_API_KEY')"
      ],
      "metadata": {
        "id": "HWBRo9kPiOLr"
      },
      "execution_count": 301,
      "outputs": []
    },
    {
      "cell_type": "code",
      "source": [
        "# Configurando o cliente do Google Maps\n",
        "gmaps = googlemaps.Client(key=maps_api_key)"
      ],
      "metadata": {
        "id": "buULF7-PPVak"
      },
      "execution_count": 302,
      "outputs": []
    },
    {
      "cell_type": "code",
      "source": [
        "# Função para buscar supermercados em uma cidade com paginação\n",
        "def search_supermarkets_in_city(city):\n",
        "    try:\n",
        "        results = []\n",
        "        page_token = None\n",
        "        page_count = 1  # Contador de página\n",
        "\n",
        "        while True:\n",
        "            places_result = gmaps.places(\n",
        "                query=f\"supermarkets in {city}\",\n",
        "                type='supermarket',\n",
        "                page_token=page_token\n",
        "            )\n",
        "            results.extend(places_result['results'])\n",
        "            page_token = places_result.get('next_page_token')\n",
        "\n",
        "            if not page_token:\n",
        "                print(\"Não existem mais páginas.\")\n",
        "                break\n",
        "            else:\n",
        "                print(f\"Buscando dados da página {page_count}...\")\n",
        "                page_count += 1\n",
        "                time.sleep(5)\n",
        "\n",
        "        return results\n",
        "    except googlemaps.exceptions.ApiError as e:\n",
        "        print(f\"API Error: {e}\")\n",
        "        return None\n",
        "    except Exception as e:\n",
        "        print(f\"Other Error: {e}\")\n",
        "        return None"
      ],
      "metadata": {
        "id": "jeZZp7sfhTuL"
      },
      "execution_count": 303,
      "outputs": []
    },
    {
      "cell_type": "code",
      "source": [
        "# Função para buscar detalhes do lugar, incluindo o telefone\n",
        "def search_place_details(place_id):\n",
        "    try:\n",
        "        place_details = gmaps.place(place_id=place_id, fields=['name', 'formatted_address', 'formatted_phone_number'])\n",
        "        return place_details['result']\n",
        "    except googlemaps.exceptions.ApiError as e:\n",
        "        print(f\"API Error: {e}\")\n",
        "        return None\n",
        "    except Exception as e:\n",
        "        print(f\"Other Error: {e}\")\n",
        "        return None\n"
      ],
      "metadata": {
        "id": "pt1kJ7rth1fO"
      },
      "execution_count": 304,
      "outputs": []
    },
    {
      "cell_type": "code",
      "source": [
        "# Função para buscar supermercados e retornar os dados em formato de tabela\n",
        "def get_supermarkets_table(city):\n",
        "    supermarkets = search_supermarkets_in_city(city)\n",
        "    if not supermarkets:\n",
        "        print(f\"Nenhum supermercado encontrado em {city}.\")\n",
        "        return pd.DataFrame(columns=[\"Número\", \"Nome\", \"Endereço\", \"Telefone\"])\n",
        "\n",
        "    data = []\n",
        "    for i, supermarket in enumerate(supermarkets, 1):\n",
        "        details = search_place_details(supermarket['place_id'])\n",
        "        if details:\n",
        "            nome = details.get('name', 'N/A')\n",
        "            endereco = details.get('formatted_address', 'N/A')\n",
        "            telefone = details.get('formatted_phone_number', 'N/A')\n",
        "            data.append([i, nome, endereco, telefone])\n",
        "        else:\n",
        "            data.append([i, 'N/A', 'N/A', 'N/A'])\n",
        "\n",
        "    df = pd.DataFrame(data, columns=[\"Número\", \"Nome\", \"Endereço\", \"Telefone\"])\n",
        "    return df"
      ],
      "metadata": {
        "id": "GPMZdgDxhUUW"
      },
      "execution_count": 305,
      "outputs": []
    },
    {
      "cell_type": "code",
      "source": [
        "# Exemplo de uso da função para obter a tabela de supermercados\n",
        "city = \"Pato Branco\"\n",
        "supermarkets_table = get_supermarkets_table(city)"
      ],
      "metadata": {
        "colab": {
          "base_uri": "https://localhost:8080/"
        },
        "id": "sNAS3R6_mBc6",
        "outputId": "6b462e9c-472c-4a7d-ab8a-e408f6f3d0da"
      },
      "execution_count": 306,
      "outputs": [
        {
          "output_type": "stream",
          "name": "stdout",
          "text": [
            "Buscando dados da página 1...\n",
            "Não existem mais páginas.\n"
          ]
        }
      ]
    },
    {
      "cell_type": "code",
      "source": [
        "# Exibir a tabela com rolagem horizontal\n",
        "html = supermarkets_table.to_html(index=False)\n",
        "display(HTML(f'<div style=\"overflow-x: auto; white-space: nowrap;\">{html}</div>'))"
      ],
      "metadata": {
        "colab": {
          "base_uri": "https://localhost:8080/",
          "height": 1000
        },
        "id": "wlE2I9zNoi7A",
        "outputId": "d0541aba-2a2b-4aec-8ab7-e84125acc6c4"
      },
      "execution_count": 307,
      "outputs": [
        {
          "output_type": "display_data",
          "data": {
            "text/plain": [
              "<IPython.core.display.HTML object>"
            ],
            "text/html": [
              "<div style=\"overflow-x: auto; white-space: nowrap;\"><table border=\"1\" class=\"dataframe\">\n",
              "  <thead>\n",
              "    <tr style=\"text-align: right;\">\n",
              "      <th>Número</th>\n",
              "      <th>Nome</th>\n",
              "      <th>Endereço</th>\n",
              "      <th>Telefone</th>\n",
              "    </tr>\n",
              "  </thead>\n",
              "  <tbody>\n",
              "    <tr>\n",
              "      <td>1</td>\n",
              "      <td>Super Polo Supermarkets</td>\n",
              "      <td>R. Guarani, 640 - Centro, Pato Branco - PR, 85501-050, Brazil</td>\n",
              "      <td>(46) 3225-2599</td>\n",
              "    </tr>\n",
              "    <tr>\n",
              "      <td>2</td>\n",
              "      <td>Center Center Center Supermarkets and Fashions</td>\n",
              "      <td>R. Ibiporã, 805 - Centro, Pato Branco - PR, 85501-282, Brazil</td>\n",
              "      <td>(46) 3025-9400</td>\n",
              "    </tr>\n",
              "    <tr>\n",
              "      <td>3</td>\n",
              "      <td>Center Avenida</td>\n",
              "      <td>Av. Tupi, 150 - Bortot, Pato Branco - PR, 85504-000, Brazil</td>\n",
              "      <td>(46) 3122-9200</td>\n",
              "    </tr>\n",
              "    <tr>\n",
              "      <td>4</td>\n",
              "      <td>Comprão - Atacado &amp; Varejo</td>\n",
              "      <td>Av. Tupi, 6225 - Santo Antônio, Pato Branco - PR, 85501-120, Brazil</td>\n",
              "      <td>(46) 3122-9300</td>\n",
              "    </tr>\n",
              "    <tr>\n",
              "      <td>5</td>\n",
              "      <td>Supermercado Planalto</td>\n",
              "      <td>R. Édimo Belmiro Pastro, 532 - Planalto I, Pato Branco - PR, 85509-280, Brazil</td>\n",
              "      <td>(46) 3225-2166</td>\n",
              "    </tr>\n",
              "    <tr>\n",
              "      <td>6</td>\n",
              "      <td>Supermercado Centro Sul</td>\n",
              "      <td>Av. Tupi, 5773 - Santo Antônio, Pato Branco - PR, 85507-000, Brazil</td>\n",
              "      <td>(46) 3223-2671</td>\n",
              "    </tr>\n",
              "    <tr>\n",
              "      <td>7</td>\n",
              "      <td>Patão Supermercado</td>\n",
              "      <td>Av. Tupi, 3233 - Baixada, Pato Branco - PR, 85505-141, Brazil</td>\n",
              "      <td>(46) 3220-3800</td>\n",
              "    </tr>\n",
              "    <tr>\n",
              "      <td>8</td>\n",
              "      <td>Mercado Vitória</td>\n",
              "      <td>R. José Fraron, 250 - Fraron, Pato Branco - PR, 85503-320, Brazil</td>\n",
              "      <td>(46) 3225-8444</td>\n",
              "    </tr>\n",
              "    <tr>\n",
              "      <td>9</td>\n",
              "      <td>Compre Mais Pato Branco - Zona Sul</td>\n",
              "      <td>Av. Tupi, 5110 - Cristo Rei, Pato Branco - PR, 85507-513, Brazil</td>\n",
              "      <td>(46) 3223-3101</td>\n",
              "    </tr>\n",
              "    <tr>\n",
              "      <td>10</td>\n",
              "      <td>No Ponto Supermercados - Zona Norte</td>\n",
              "      <td>Av. Tupi, 759 - Bortot, Pato Branco - PR, 85504-250, Brazil</td>\n",
              "      <td>(46) 2604-1423</td>\n",
              "    </tr>\n",
              "    <tr>\n",
              "      <td>11</td>\n",
              "      <td>Mercado Bom Preço</td>\n",
              "      <td>R. Lídio Oltramari, 837 - Fraron, Pato Branco - PR, 85503-381, Brazil</td>\n",
              "      <td>N/A</td>\n",
              "    </tr>\n",
              "    <tr>\n",
              "      <td>12</td>\n",
              "      <td>Supermercado Baratão</td>\n",
              "      <td>R. Gonçalves Dias, 253 - São Cristóvão, Pato Branco - PR, 85508-080, Brazil</td>\n",
              "      <td>(46) 3223-2704</td>\n",
              "    </tr>\n",
              "    <tr>\n",
              "      <td>13</td>\n",
              "      <td>Superdia - Pato Branco</td>\n",
              "      <td>R. Abel Bortot, 1450 - Loja 01/02/03 - São Luiz, Pato Branco - PR, 85504-280, Brazil</td>\n",
              "      <td>(46) 3199-1130</td>\n",
              "    </tr>\n",
              "    <tr>\n",
              "      <td>14</td>\n",
              "      <td>Super Center Norte</td>\n",
              "      <td>R. Procópio de Lima, 460 - Trevo da Guarany, Pato Branco - PR, 85501-350, Brazil</td>\n",
              "      <td>(46) 3224-3243</td>\n",
              "    </tr>\n",
              "    <tr>\n",
              "      <td>15</td>\n",
              "      <td>Supermarket Manfroi Bortot</td>\n",
              "      <td>Av. Tupi, 1255 - Vila Isabel, Pato Branco - PR, 85504-000, Brazil</td>\n",
              "      <td>(46) 3225-4911</td>\n",
              "    </tr>\n",
              "    <tr>\n",
              "      <td>16</td>\n",
              "      <td>Mercado Ideal</td>\n",
              "      <td>Av. Tupi, 4369 - Cristo Rei, Pato Branco - PR, 85506-650, Brazil</td>\n",
              "      <td>N/A</td>\n",
              "    </tr>\n",
              "    <tr>\n",
              "      <td>17</td>\n",
              "      <td>Mega Compra</td>\n",
              "      <td>R. Tocantins, 1145 - São Vicente, Pato Branco - PR, 85506-330, Brazil</td>\n",
              "      <td>(46) 99907-9915</td>\n",
              "    </tr>\n",
              "    <tr>\n",
              "      <td>18</td>\n",
              "      <td>Supermarket Hot Spot</td>\n",
              "      <td>Av. Tupi, 4971 - São Cristóvão, Pato Branco - PR, 85507-000, Brazil</td>\n",
              "      <td>(46) 3223-2042</td>\n",
              "    </tr>\n",
              "    <tr>\n",
              "      <td>19</td>\n",
              "      <td>Mercado JS</td>\n",
              "      <td>R. Genuíno Piacentini, 133 - Santa Terezinha, Pato Branco - PR, 85506-220, Brazil</td>\n",
              "      <td>(46) 3225-9678</td>\n",
              "    </tr>\n",
              "    <tr>\n",
              "      <td>20</td>\n",
              "      <td>Mercado Biavatti</td>\n",
              "      <td>R. Itabira, 2090 - Parzianello, Pato Branco - PR, 85504-430, Brazil</td>\n",
              "      <td>(46) 3224-4767</td>\n",
              "    </tr>\n",
              "    <tr>\n",
              "      <td>21</td>\n",
              "      <td>Manfroi Supermercados Menino Deus</td>\n",
              "      <td>R. Itacolomi, 2865 - Amadori, Pato Branco - PR, 85502-070, Brazil</td>\n",
              "      <td>(46) 3225-2462</td>\n",
              "    </tr>\n",
              "    <tr>\n",
              "      <td>22</td>\n",
              "      <td>Supermarket and Bakery Boy</td>\n",
              "      <td>R. das Garças, 472 - Planalto II, Pato Branco - PR, 85509-000, Brazil</td>\n",
              "      <td>(46) 3225-2841</td>\n",
              "    </tr>\n",
              "    <tr>\n",
              "      <td>23</td>\n",
              "      <td>Mercado Princesa Isabel</td>\n",
              "      <td>R. Princesa Isabel, 1387 - Alvorada, Pato Branco - PR, 85508-160, Brazil</td>\n",
              "      <td>N/A</td>\n",
              "    </tr>\n",
              "    <tr>\n",
              "      <td>24</td>\n",
              "      <td>Supermercado Binsfeld</td>\n",
              "      <td>R. Gen. Osório, 717 - Santo Antônio, Pato Branco - PR, 85507-320, Brazil</td>\n",
              "      <td>(46) 3225-3055</td>\n",
              "    </tr>\n",
              "    <tr>\n",
              "      <td>25</td>\n",
              "      <td>Compre Mais Pato Branco - Zona Norte LOJA 32</td>\n",
              "      <td>R. Moacir de Jesus Martins, 180 - Vila Esperanca, Pato Branco - PR, 85503-180, Brazil</td>\n",
              "      <td>(46) 3223-1450</td>\n",
              "    </tr>\n",
              "    <tr>\n",
              "      <td>26</td>\n",
              "      <td>Mercado Gaio</td>\n",
              "      <td>R. Natália Vicente Pereira, 69 - Vila Esperanca, Pato Branco - PR, 85503-100, Brazil</td>\n",
              "      <td>(46) 3224-1562</td>\n",
              "    </tr>\n",
              "    <tr>\n",
              "      <td>27</td>\n",
              "      <td>Center Baixada</td>\n",
              "      <td>R. Paraná, 172 - Baixada, Pato Branco - PR, 85501-090, Brazil</td>\n",
              "      <td>(46) 3313-3243</td>\n",
              "    </tr>\n",
              "    <tr>\n",
              "      <td>28</td>\n",
              "      <td>Supermercado Scariot</td>\n",
              "      <td>R. Fernando Ferrari, 560 - Cristo Rei, Pato Branco - PR, 85506-400, Brazil</td>\n",
              "      <td>(46) 3224-1630</td>\n",
              "    </tr>\n",
              "    <tr>\n",
              "      <td>29</td>\n",
              "      <td>Mercado Novo Horizonte</td>\n",
              "      <td>R. Bento Gonçalves, 869 - Cristo Rei, Pato Branco - PR, 85507-490, Brazil</td>\n",
              "      <td>(46) 3223-3777</td>\n",
              "    </tr>\n",
              "    <tr>\n",
              "      <td>30</td>\n",
              "      <td>Super Osvaldo Cruz</td>\n",
              "      <td>Av. Tupi, 6952 - São Cristóvão, Pato Branco - PR, 85508-225, Brazil</td>\n",
              "      <td>(46) 3223-2299</td>\n",
              "    </tr>\n",
              "    <tr>\n",
              "      <td>31</td>\n",
              "      <td>Mercado Pato Branco</td>\n",
              "      <td>Av. Santa Catarina, 139 - Praia da Enseada, São Francisco do Sul - SC, 89240-000, Brazil</td>\n",
              "      <td>(47) 3442-4273</td>\n",
              "    </tr>\n",
              "  </tbody>\n",
              "</table></div>"
            ]
          },
          "metadata": {}
        }
      ]
    }
  ]
}